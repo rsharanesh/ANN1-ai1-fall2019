{
  "nbformat": 4,
  "nbformat_minor": 0,
  "metadata": {
    "colab": {
      "name": "Untitled6.ipynb",
      "provenance": [],
      "include_colab_link": true
    },
    "kernelspec": {
      "name": "python3",
      "display_name": "Python 3"
    }
  },
  "cells": [
    {
      "cell_type": "markdown",
      "metadata": {
        "id": "view-in-github",
        "colab_type": "text"
      },
      "source": [
        "<a href=\"https://colab.research.google.com/github/rsharanesh/ANN1-ai1-fall2019/blob/master/logistic.ipynb\" target=\"_parent\"><img src=\"https://colab.research.google.com/assets/colab-badge.svg\" alt=\"Open In Colab\"/></a>"
      ]
    },
    {
      "cell_type": "code",
      "metadata": {
        "id": "-g1Xtb5gQfXO",
        "colab_type": "code",
        "colab": {
          "base_uri": "https://localhost:8080/",
          "height": 476
        },
        "outputId": "8c3c1292-e58c-49b7-bed9-87ac7515f248"
      },
      "source": [
        "!pip install wandb"
      ],
      "execution_count": 45,
      "outputs": [
        {
          "output_type": "stream",
          "text": [
            "Requirement already satisfied: wandb in /usr/local/lib/python3.6/dist-packages (0.8.18)\n",
            "Requirement already satisfied: shortuuid>=0.5.0 in /usr/local/lib/python3.6/dist-packages (from wandb) (0.5.0)\n",
            "Requirement already satisfied: graphql-core<3.0.0 in /usr/local/lib/python3.6/dist-packages (from wandb) (2.2.1)\n",
            "Requirement already satisfied: gql>=0.1.0 in /usr/local/lib/python3.6/dist-packages (from wandb) (0.1.0)\n",
            "Requirement already satisfied: GitPython>=1.0.0 in /usr/local/lib/python3.6/dist-packages (from wandb) (3.0.5)\n",
            "Requirement already satisfied: requests>=2.0.0 in /usr/local/lib/python3.6/dist-packages (from wandb) (2.21.0)\n",
            "Requirement already satisfied: sentry-sdk>=0.4.0 in /usr/local/lib/python3.6/dist-packages (from wandb) (0.13.5)\n",
            "Requirement already satisfied: subprocess32>=3.5.3 in /usr/local/lib/python3.6/dist-packages (from wandb) (3.5.4)\n",
            "Requirement already satisfied: nvidia-ml-py3>=7.352.0 in /usr/local/lib/python3.6/dist-packages (from wandb) (7.352.0)\n",
            "Requirement already satisfied: docker-pycreds>=0.4.0 in /usr/local/lib/python3.6/dist-packages (from wandb) (0.4.0)\n",
            "Requirement already satisfied: six>=1.10.0 in /usr/local/lib/python3.6/dist-packages (from wandb) (1.12.0)\n",
            "Requirement already satisfied: psutil>=5.0.0 in /usr/local/lib/python3.6/dist-packages (from wandb) (5.4.8)\n",
            "Requirement already satisfied: Click>=7.0 in /usr/local/lib/python3.6/dist-packages (from wandb) (7.0)\n",
            "Requirement already satisfied: configparser>=3.8.1 in /usr/local/lib/python3.6/dist-packages (from wandb) (4.0.2)\n",
            "Requirement already satisfied: python-dateutil>=2.6.1 in /usr/local/lib/python3.6/dist-packages (from wandb) (2.6.1)\n",
            "Requirement already satisfied: watchdog>=0.8.3 in /usr/local/lib/python3.6/dist-packages (from wandb) (0.9.0)\n",
            "Requirement already satisfied: rx<3,>=1.6 in /usr/local/lib/python3.6/dist-packages (from graphql-core<3.0.0->wandb) (1.6.1)\n",
            "Requirement already satisfied: promise>=2.1 in /usr/local/lib/python3.6/dist-packages (from graphql-core<3.0.0->wandb) (2.2.1)\n",
            "Requirement already satisfied: gitdb2>=2.0.0 in /usr/local/lib/python3.6/dist-packages (from GitPython>=1.0.0->wandb) (2.0.6)\n",
            "Requirement already satisfied: idna<2.9,>=2.5 in /usr/local/lib/python3.6/dist-packages (from requests>=2.0.0->wandb) (2.8)\n",
            "Requirement already satisfied: chardet<3.1.0,>=3.0.2 in /usr/local/lib/python3.6/dist-packages (from requests>=2.0.0->wandb) (3.0.4)\n",
            "Requirement already satisfied: urllib3<1.25,>=1.21.1 in /usr/local/lib/python3.6/dist-packages (from requests>=2.0.0->wandb) (1.24.3)\n",
            "Requirement already satisfied: certifi>=2017.4.17 in /usr/local/lib/python3.6/dist-packages (from requests>=2.0.0->wandb) (2019.11.28)\n",
            "Requirement already satisfied: pathtools>=0.1.1 in /usr/local/lib/python3.6/dist-packages (from watchdog>=0.8.3->wandb) (0.1.2)\n",
            "Requirement already satisfied: PyYAML>=3.10 in /usr/local/lib/python3.6/dist-packages (from watchdog>=0.8.3->wandb) (3.13)\n",
            "Requirement already satisfied: argh>=0.24.1 in /usr/local/lib/python3.6/dist-packages (from watchdog>=0.8.3->wandb) (0.26.2)\n",
            "Requirement already satisfied: smmap2>=2.0.0 in /usr/local/lib/python3.6/dist-packages (from gitdb2>=2.0.0->GitPython>=1.0.0->wandb) (2.0.5)\n"
          ],
          "name": "stdout"
        }
      ]
    },
    {
      "cell_type": "code",
      "metadata": {
        "id": "EK5odB87QvVc",
        "colab_type": "code",
        "colab": {
          "base_uri": "https://localhost:8080/",
          "height": 153
        },
        "outputId": "1fe72cba-d914-4e6a-96c7-026440fa22d3"
      },
      "source": [
        "!wandb login"
      ],
      "execution_count": 46,
      "outputs": [
        {
          "output_type": "stream",
          "text": [
            "\u001b[34m\u001b[1mwandb\u001b[0m: (1) Create a W&B account\n",
            "\u001b[34m\u001b[1mwandb\u001b[0m: (2) Use an existing W&B account\n",
            "\u001b[34m\u001b[1mwandb\u001b[0m: Enter your choice: 2\n",
            "\u001b[34m\u001b[1mwandb\u001b[0m: You chose 'Use an existing W&B account'\n",
            "\u001b[34m\u001b[1mwandb\u001b[0m: You can find your API key in your browser here: https://app.wandb.ai/authorize\n",
            "\u001b[34m\u001b[1mwandb\u001b[0m: Paste an API key from your profile and hit enter: 35549d82c03538d7de00fcf45af422f472e8d394\n",
            "\u001b[34m\u001b[1mwandb\u001b[0m: Appending key for api.wandb.ai to your netrc file: /root/.netrc\n",
            "\u001b[32mSuccessfully logged in to Weights & Biases!\u001b[0m\n"
          ],
          "name": "stdout"
        }
      ]
    },
    {
      "cell_type": "code",
      "metadata": {
        "id": "XUDdCNtdRBED",
        "colab_type": "code",
        "colab": {}
      },
      "source": [
        "from keras.datasets import mnist\n",
        "from keras.models import Sequential\n",
        "from keras.layers import Dense,Flatten\n",
        "from keras.utils import to_categorical\n",
        "from keras.utils import np_utils\n",
        "from keras.callbacks import Callback\n",
        "import json"
      ],
      "execution_count": 0,
      "outputs": []
    },
    {
      "cell_type": "code",
      "metadata": {
        "id": "H_jeC5byR6Au",
        "colab_type": "code",
        "colab": {}
      },
      "source": [
        "import wandb\n",
        "from wandb.keras import WandbCallback"
      ],
      "execution_count": 0,
      "outputs": []
    },
    {
      "cell_type": "code",
      "metadata": {
        "id": "iQ1rVAWMTEBE",
        "colab_type": "code",
        "colab": {
          "base_uri": "https://localhost:8080/",
          "height": 68
        },
        "outputId": "f0070149-82c6-416d-a16a-fa67db227c4d"
      },
      "source": [
        "#logging in to the wandb code\n",
        "run = wandb.init(entity=\"univai-fall\",project=\"harbinger\")\n",
        "config = run.config"
      ],
      "execution_count": 49,
      "outputs": [
        {
          "output_type": "display_data",
          "data": {
            "text/html": [
              "\n",
              "                Logging results to <a href=\"https://wandb.com\" target=\"_blank\">Weights & Biases</a> <a href=\"https://docs.wandb.com/integrations/jupyter.html\" target=\"_blank\">(Documentation)</a>.<br/>\n",
              "                Project page: <a href=\"https://app.wandb.ai/univai-fall/harbinger\" target=\"_blank\">https://app.wandb.ai/univai-fall/harbinger</a><br/>\n",
              "                Run page: <a href=\"https://app.wandb.ai/univai-fall/harbinger/runs/sfzvd12i\" target=\"_blank\">https://app.wandb.ai/univai-fall/harbinger/runs/sfzvd12i</a><br/>\n",
              "            "
            ],
            "text/plain": [
              "<IPython.core.display.HTML object>"
            ]
          },
          "metadata": {
            "tags": []
          }
        }
      ]
    },
    {
      "cell_type": "code",
      "metadata": {
        "id": "3_7snFRrTnMx",
        "colab_type": "code",
        "colab": {}
      },
      "source": [
        "#loading the data from the database\n",
        "(X_train, y_train), (X_test, y_test)=mnist.load_data()\n",
        "img_width= X_train.shape[1]\n",
        "img_height= X_train.shape[2]"
      ],
      "execution_count": 0,
      "outputs": []
    },
    {
      "cell_type": "code",
      "metadata": {
        "id": "DrsZ459_UF7E",
        "colab_type": "code",
        "colab": {
          "base_uri": "https://localhost:8080/",
          "height": 34
        },
        "outputId": "8cae307b-e692-4512-a132-3d270ec814d2"
      },
      "source": [
        "print(img_height)"
      ],
      "execution_count": 51,
      "outputs": [
        {
          "output_type": "stream",
          "text": [
            "28\n"
          ],
          "name": "stdout"
        }
      ]
    },
    {
      "cell_type": "code",
      "metadata": {
        "id": "hhulY5iOVb9o",
        "colab_type": "code",
        "colab": {}
      },
      "source": [
        "#normalistaion\n",
        "X_train = X_train.astype('float32')\n",
        "X_train /= 255\n",
        "X_test = X_test.astype('float32')\n",
        "X_test /= 255"
      ],
      "execution_count": 0,
      "outputs": []
    },
    {
      "cell_type": "code",
      "metadata": {
        "id": "zk_hqfifWWfE",
        "colab_type": "code",
        "colab": {}
      },
      "source": [
        "y_train = to_categorical(y_train)\n",
        "y_test = to_categorical(y_test)\n",
        "labels = range(10)"
      ],
      "execution_count": 0,
      "outputs": []
    },
    {
      "cell_type": "code",
      "metadata": {
        "id": "dl-alruUW5Xz",
        "colab_type": "code",
        "colab": {}
      },
      "source": [
        "num_classes = y_train.shape[1]"
      ],
      "execution_count": 0,
      "outputs": []
    },
    {
      "cell_type": "code",
      "metadata": {
        "id": "vmyITpdcW78s",
        "colab_type": "code",
        "colab": {
          "base_uri": "https://localhost:8080/",
          "height": 221
        },
        "outputId": "82d0a7e2-cb0a-4004-f738-07cab9cd0799"
      },
      "source": [
        "# the model\n",
        "model = Sequential()\n",
        "model.add(Flatten(input_shape=(img_width, img_height)))\n",
        "model.add(Dense(num_classes, activation='softmax'))\n",
        "model.compile(loss='categorical_crossentropy', optimizer='adam',\n",
        "              metrics=['accuracy'])\n",
        "model.summary()"
      ],
      "execution_count": 55,
      "outputs": [
        {
          "output_type": "stream",
          "text": [
            "Model: \"sequential_12\"\n",
            "_________________________________________________________________\n",
            "Layer (type)                 Output Shape              Param #   \n",
            "=================================================================\n",
            "flatten_13 (Flatten)         (None, 784)               0         \n",
            "_________________________________________________________________\n",
            "dense_29 (Dense)             (None, 10)                7850      \n",
            "=================================================================\n",
            "Total params: 7,850\n",
            "Trainable params: 7,850\n",
            "Non-trainable params: 0\n",
            "_________________________________________________________________\n"
          ],
          "name": "stdout"
        }
      ]
    },
    {
      "cell_type": "code",
      "metadata": {
        "id": "9QKDcCr6XAx0",
        "colab_type": "code",
        "colab": {
          "base_uri": "https://localhost:8080/",
          "height": 1000
        },
        "outputId": "017fa516-146d-4f59-b713-82c65ee57a04"
      },
      "source": [
        "# fitting the model\n",
        "model.fit(X_train, y_train, epochs=100, validation_data=(X_test, y_test),\n",
        "          callbacks=[WandbCallback(data_type=\"image\", labels=labels, save_model=False)])"
      ],
      "execution_count": 57,
      "outputs": [
        {
          "output_type": "stream",
          "text": [
            "Train on 60000 samples, validate on 10000 samples\n",
            "Epoch 1/100\n",
            " 3072/60000 [>.............................] - ETA: 13s - loss: 0.2080 - acc: 0.9382"
          ],
          "name": "stdout"
        },
        {
          "output_type": "stream",
          "text": [
            "/usr/local/lib/python3.6/dist-packages/keras/callbacks.py:95: RuntimeWarning: Method (on_train_batch_end) is slow compared to the batch update (0.554380). Check your callbacks.\n",
            "  % (hook_name, delta_t_median), RuntimeWarning)\n",
            "/usr/local/lib/python3.6/dist-packages/keras/callbacks.py:95: RuntimeWarning: Method (on_train_batch_end) is slow compared to the batch update (0.278125). Check your callbacks.\n",
            "  % (hook_name, delta_t_median), RuntimeWarning)\n"
          ],
          "name": "stderr"
        },
        {
          "output_type": "stream",
          "text": [
            "60000/60000 [==============================] - 4s 64us/step - loss: 0.2201 - acc: 0.9386 - val_loss: 0.2965 - val_acc: 0.9264\n",
            "Epoch 2/100\n",
            "60000/60000 [==============================] - 3s 54us/step - loss: 0.2199 - acc: 0.9388 - val_loss: 0.2962 - val_acc: 0.9258\n",
            "Epoch 3/100\n",
            "60000/60000 [==============================] - 3s 53us/step - loss: 0.2196 - acc: 0.9386 - val_loss: 0.3001 - val_acc: 0.9263\n",
            "Epoch 4/100\n",
            "60000/60000 [==============================] - 3s 53us/step - loss: 0.2201 - acc: 0.9389 - val_loss: 0.3057 - val_acc: 0.9240\n",
            "Epoch 5/100\n",
            "60000/60000 [==============================] - 3s 54us/step - loss: 0.2203 - acc: 0.9386 - val_loss: 0.2975 - val_acc: 0.9259\n",
            "Epoch 6/100\n",
            "60000/60000 [==============================] - 3s 54us/step - loss: 0.2196 - acc: 0.9387 - val_loss: 0.2990 - val_acc: 0.9253\n",
            "Epoch 7/100\n",
            "60000/60000 [==============================] - 3s 55us/step - loss: 0.2195 - acc: 0.9383 - val_loss: 0.2987 - val_acc: 0.9264\n",
            "Epoch 8/100\n",
            "60000/60000 [==============================] - 3s 54us/step - loss: 0.2196 - acc: 0.9392 - val_loss: 0.2976 - val_acc: 0.9257\n",
            "Epoch 9/100\n",
            "60000/60000 [==============================] - 3s 55us/step - loss: 0.2194 - acc: 0.9385 - val_loss: 0.2976 - val_acc: 0.9249\n",
            "Epoch 10/100\n",
            "60000/60000 [==============================] - 3s 55us/step - loss: 0.2197 - acc: 0.9389 - val_loss: 0.3000 - val_acc: 0.9250\n",
            "Epoch 11/100\n",
            "60000/60000 [==============================] - 3s 58us/step - loss: 0.2192 - acc: 0.9386 - val_loss: 0.2999 - val_acc: 0.9254\n",
            "Epoch 12/100\n",
            "60000/60000 [==============================] - 4s 64us/step - loss: 0.2196 - acc: 0.9384 - val_loss: 0.2996 - val_acc: 0.9247\n",
            "Epoch 13/100\n",
            "60000/60000 [==============================] - 4s 61us/step - loss: 0.2196 - acc: 0.9382 - val_loss: 0.2973 - val_acc: 0.9271\n",
            "Epoch 14/100\n",
            "60000/60000 [==============================] - 3s 54us/step - loss: 0.2189 - acc: 0.9385 - val_loss: 0.3008 - val_acc: 0.9245\n",
            "Epoch 15/100\n",
            "60000/60000 [==============================] - 3s 55us/step - loss: 0.2191 - acc: 0.9389 - val_loss: 0.2969 - val_acc: 0.9263\n",
            "Epoch 16/100\n",
            "60000/60000 [==============================] - 3s 55us/step - loss: 0.2189 - acc: 0.9393 - val_loss: 0.3013 - val_acc: 0.9259\n",
            "Epoch 17/100\n",
            "60000/60000 [==============================] - 3s 55us/step - loss: 0.2189 - acc: 0.9386 - val_loss: 0.3000 - val_acc: 0.9257\n",
            "Epoch 18/100\n",
            "60000/60000 [==============================] - 3s 54us/step - loss: 0.2188 - acc: 0.9393 - val_loss: 0.3005 - val_acc: 0.9258\n",
            "Epoch 19/100\n",
            "60000/60000 [==============================] - 3s 53us/step - loss: 0.2188 - acc: 0.9388 - val_loss: 0.2997 - val_acc: 0.9255\n",
            "Epoch 20/100\n",
            "60000/60000 [==============================] - 3s 56us/step - loss: 0.2185 - acc: 0.9386 - val_loss: 0.2998 - val_acc: 0.9258\n",
            "Epoch 21/100\n",
            "60000/60000 [==============================] - 4s 61us/step - loss: 0.2185 - acc: 0.9391 - val_loss: 0.2981 - val_acc: 0.9244\n",
            "Epoch 22/100\n",
            "60000/60000 [==============================] - 3s 57us/step - loss: 0.2187 - acc: 0.9392 - val_loss: 0.2990 - val_acc: 0.9270\n",
            "Epoch 23/100\n",
            "60000/60000 [==============================] - 3s 54us/step - loss: 0.2186 - acc: 0.9390 - val_loss: 0.3001 - val_acc: 0.9256\n",
            "Epoch 24/100\n",
            "60000/60000 [==============================] - 3s 54us/step - loss: 0.2180 - acc: 0.9399 - val_loss: 0.3031 - val_acc: 0.9248\n",
            "Epoch 25/100\n",
            "60000/60000 [==============================] - 3s 54us/step - loss: 0.2182 - acc: 0.9396 - val_loss: 0.3040 - val_acc: 0.9257\n",
            "Epoch 26/100\n",
            "60000/60000 [==============================] - 3s 53us/step - loss: 0.2185 - acc: 0.9383 - val_loss: 0.3037 - val_acc: 0.9260\n",
            "Epoch 27/100\n",
            "60000/60000 [==============================] - 3s 54us/step - loss: 0.2183 - acc: 0.9389 - val_loss: 0.3014 - val_acc: 0.9255\n",
            "Epoch 28/100\n",
            "60000/60000 [==============================] - 3s 54us/step - loss: 0.2181 - acc: 0.9391 - val_loss: 0.3030 - val_acc: 0.9223\n",
            "Epoch 29/100\n",
            "60000/60000 [==============================] - 3s 54us/step - loss: 0.2180 - acc: 0.9388 - val_loss: 0.3030 - val_acc: 0.9244\n",
            "Epoch 30/100\n",
            "60000/60000 [==============================] - 3s 54us/step - loss: 0.2178 - acc: 0.9394 - val_loss: 0.3018 - val_acc: 0.9255\n",
            "Epoch 31/100\n",
            "60000/60000 [==============================] - 3s 53us/step - loss: 0.2181 - acc: 0.9388 - val_loss: 0.3004 - val_acc: 0.9265\n",
            "Epoch 32/100\n",
            "60000/60000 [==============================] - 3s 53us/step - loss: 0.2179 - acc: 0.9391 - val_loss: 0.3029 - val_acc: 0.9264\n",
            "Epoch 33/100\n",
            "60000/60000 [==============================] - 3s 54us/step - loss: 0.2182 - acc: 0.9392 - val_loss: 0.3037 - val_acc: 0.9231\n",
            "Epoch 34/100\n",
            "60000/60000 [==============================] - 3s 54us/step - loss: 0.2179 - acc: 0.9396 - val_loss: 0.3068 - val_acc: 0.9250\n",
            "Epoch 35/100\n",
            "60000/60000 [==============================] - 3s 55us/step - loss: 0.2182 - acc: 0.9385 - val_loss: 0.3005 - val_acc: 0.9255\n",
            "Epoch 36/100\n",
            "60000/60000 [==============================] - 3s 54us/step - loss: 0.2174 - acc: 0.9398 - val_loss: 0.3003 - val_acc: 0.9266\n",
            "Epoch 37/100\n",
            "60000/60000 [==============================] - 3s 53us/step - loss: 0.2175 - acc: 0.9396 - val_loss: 0.3063 - val_acc: 0.9221\n",
            "Epoch 38/100\n",
            "60000/60000 [==============================] - 3s 53us/step - loss: 0.2176 - acc: 0.9394 - val_loss: 0.3037 - val_acc: 0.9256\n",
            "Epoch 39/100\n",
            "60000/60000 [==============================] - 3s 53us/step - loss: 0.2173 - acc: 0.9398 - val_loss: 0.3067 - val_acc: 0.9249\n",
            "Epoch 40/100\n",
            "60000/60000 [==============================] - 3s 53us/step - loss: 0.2175 - acc: 0.9390 - val_loss: 0.3036 - val_acc: 0.9262\n",
            "Epoch 41/100\n",
            "60000/60000 [==============================] - 3s 53us/step - loss: 0.2176 - acc: 0.9395 - val_loss: 0.3042 - val_acc: 0.9248\n",
            "Epoch 42/100\n",
            "60000/60000 [==============================] - 3s 54us/step - loss: 0.2175 - acc: 0.9396 - val_loss: 0.3032 - val_acc: 0.9245\n",
            "Epoch 43/100\n",
            "60000/60000 [==============================] - 3s 54us/step - loss: 0.2171 - acc: 0.9390 - val_loss: 0.3076 - val_acc: 0.9237\n",
            "Epoch 44/100\n",
            "60000/60000 [==============================] - 3s 55us/step - loss: 0.2171 - acc: 0.9394 - val_loss: 0.3048 - val_acc: 0.9256\n",
            "Epoch 45/100\n",
            "60000/60000 [==============================] - 3s 54us/step - loss: 0.2176 - acc: 0.9391 - val_loss: 0.3039 - val_acc: 0.9254\n",
            "Epoch 46/100\n",
            "60000/60000 [==============================] - 3s 55us/step - loss: 0.2172 - acc: 0.9390 - val_loss: 0.3033 - val_acc: 0.9264\n",
            "Epoch 47/100\n",
            "60000/60000 [==============================] - 3s 55us/step - loss: 0.2167 - acc: 0.9400 - val_loss: 0.3071 - val_acc: 0.9264\n",
            "Epoch 48/100\n",
            "60000/60000 [==============================] - 3s 53us/step - loss: 0.2173 - acc: 0.9393 - val_loss: 0.3078 - val_acc: 0.9237\n",
            "Epoch 49/100\n",
            "60000/60000 [==============================] - 3s 53us/step - loss: 0.2168 - acc: 0.9394 - val_loss: 0.3068 - val_acc: 0.9239\n",
            "Epoch 50/100\n",
            "60000/60000 [==============================] - 3s 53us/step - loss: 0.2166 - acc: 0.9395 - val_loss: 0.3046 - val_acc: 0.9240\n",
            "Epoch 51/100\n",
            "60000/60000 [==============================] - 3s 54us/step - loss: 0.2167 - acc: 0.9400 - val_loss: 0.3043 - val_acc: 0.9260\n",
            "Epoch 52/100\n",
            "60000/60000 [==============================] - 3s 56us/step - loss: 0.2169 - acc: 0.9397 - val_loss: 0.3062 - val_acc: 0.9251\n",
            "Epoch 53/100\n",
            "60000/60000 [==============================] - 3s 54us/step - loss: 0.2170 - acc: 0.9398 - val_loss: 0.3098 - val_acc: 0.9236\n",
            "Epoch 54/100\n",
            "60000/60000 [==============================] - 3s 55us/step - loss: 0.2170 - acc: 0.9400 - val_loss: 0.3045 - val_acc: 0.9255\n",
            "Epoch 55/100\n",
            "60000/60000 [==============================] - 3s 54us/step - loss: 0.2166 - acc: 0.9387 - val_loss: 0.3050 - val_acc: 0.9244\n",
            "Epoch 56/100\n",
            "60000/60000 [==============================] - 3s 55us/step - loss: 0.2169 - acc: 0.9395 - val_loss: 0.3052 - val_acc: 0.9265\n",
            "Epoch 57/100\n",
            "60000/60000 [==============================] - 3s 53us/step - loss: 0.2168 - acc: 0.9392 - val_loss: 0.3062 - val_acc: 0.9241\n",
            "Epoch 58/100\n",
            "60000/60000 [==============================] - 3s 53us/step - loss: 0.2167 - acc: 0.9387 - val_loss: 0.3056 - val_acc: 0.9258\n",
            "Epoch 59/100\n",
            "60000/60000 [==============================] - 3s 52us/step - loss: 0.2163 - acc: 0.9398 - val_loss: 0.3054 - val_acc: 0.9241\n",
            "Epoch 60/100\n",
            "60000/60000 [==============================] - 3s 54us/step - loss: 0.2168 - acc: 0.9394 - val_loss: 0.3114 - val_acc: 0.9244\n",
            "Epoch 61/100\n",
            "60000/60000 [==============================] - 3s 54us/step - loss: 0.2166 - acc: 0.9396 - val_loss: 0.3068 - val_acc: 0.9246\n",
            "Epoch 62/100\n",
            "60000/60000 [==============================] - 3s 54us/step - loss: 0.2164 - acc: 0.9390 - val_loss: 0.3069 - val_acc: 0.9259\n",
            "Epoch 63/100\n",
            "60000/60000 [==============================] - 3s 54us/step - loss: 0.2161 - acc: 0.9400 - val_loss: 0.3091 - val_acc: 0.9252\n",
            "Epoch 64/100\n",
            "60000/60000 [==============================] - 3s 53us/step - loss: 0.2167 - acc: 0.9389 - val_loss: 0.3049 - val_acc: 0.9259\n",
            "Epoch 65/100\n",
            "60000/60000 [==============================] - 3s 54us/step - loss: 0.2161 - acc: 0.9398 - val_loss: 0.3055 - val_acc: 0.9246\n",
            "Epoch 66/100\n",
            "60000/60000 [==============================] - 3s 54us/step - loss: 0.2162 - acc: 0.9395 - val_loss: 0.3065 - val_acc: 0.9255\n",
            "Epoch 67/100\n",
            "60000/60000 [==============================] - 3s 54us/step - loss: 0.2159 - acc: 0.9396 - val_loss: 0.3117 - val_acc: 0.9227\n",
            "Epoch 68/100\n",
            "60000/60000 [==============================] - 3s 54us/step - loss: 0.2163 - acc: 0.9393 - val_loss: 0.3074 - val_acc: 0.9265\n",
            "Epoch 69/100\n",
            "60000/60000 [==============================] - 3s 54us/step - loss: 0.2161 - acc: 0.9397 - val_loss: 0.3066 - val_acc: 0.9253\n",
            "Epoch 70/100\n",
            "60000/60000 [==============================] - 3s 53us/step - loss: 0.2158 - acc: 0.9399 - val_loss: 0.3055 - val_acc: 0.9248\n",
            "Epoch 71/100\n",
            "60000/60000 [==============================] - 3s 55us/step - loss: 0.2163 - acc: 0.9390 - val_loss: 0.3112 - val_acc: 0.9238\n",
            "Epoch 72/100\n",
            "60000/60000 [==============================] - 3s 55us/step - loss: 0.2160 - acc: 0.9395 - val_loss: 0.3091 - val_acc: 0.9250\n",
            "Epoch 73/100\n",
            "60000/60000 [==============================] - 3s 54us/step - loss: 0.2160 - acc: 0.9399 - val_loss: 0.3126 - val_acc: 0.9237\n",
            "Epoch 74/100\n",
            "60000/60000 [==============================] - 3s 55us/step - loss: 0.2159 - acc: 0.9394 - val_loss: 0.3119 - val_acc: 0.9266\n",
            "Epoch 75/100\n",
            "60000/60000 [==============================] - 3s 54us/step - loss: 0.2158 - acc: 0.9398 - val_loss: 0.3103 - val_acc: 0.9253\n",
            "Epoch 76/100\n",
            "60000/60000 [==============================] - 3s 53us/step - loss: 0.2161 - acc: 0.9399 - val_loss: 0.3081 - val_acc: 0.9258\n",
            "Epoch 77/100\n",
            "60000/60000 [==============================] - 3s 54us/step - loss: 0.2155 - acc: 0.9395 - val_loss: 0.3145 - val_acc: 0.9220\n",
            "Epoch 78/100\n",
            "60000/60000 [==============================] - 3s 54us/step - loss: 0.2158 - acc: 0.9394 - val_loss: 0.3082 - val_acc: 0.9254\n",
            "Epoch 79/100\n",
            "60000/60000 [==============================] - 3s 53us/step - loss: 0.2154 - acc: 0.9401 - val_loss: 0.3092 - val_acc: 0.9256\n",
            "Epoch 80/100\n",
            "60000/60000 [==============================] - 3s 54us/step - loss: 0.2155 - acc: 0.9401 - val_loss: 0.3110 - val_acc: 0.9239\n",
            "Epoch 81/100\n",
            "60000/60000 [==============================] - 3s 55us/step - loss: 0.2156 - acc: 0.9396 - val_loss: 0.3129 - val_acc: 0.9222\n",
            "Epoch 82/100\n",
            "60000/60000 [==============================] - 3s 55us/step - loss: 0.2158 - acc: 0.9395 - val_loss: 0.3075 - val_acc: 0.9234\n",
            "Epoch 83/100\n",
            "60000/60000 [==============================] - 3s 55us/step - loss: 0.2158 - acc: 0.9396 - val_loss: 0.3111 - val_acc: 0.9240\n",
            "Epoch 84/100\n",
            "60000/60000 [==============================] - 3s 58us/step - loss: 0.2157 - acc: 0.9395 - val_loss: 0.3130 - val_acc: 0.9240\n",
            "Epoch 85/100\n",
            "60000/60000 [==============================] - 3s 55us/step - loss: 0.2155 - acc: 0.9398 - val_loss: 0.3133 - val_acc: 0.9219\n",
            "Epoch 86/100\n",
            "60000/60000 [==============================] - 3s 54us/step - loss: 0.2151 - acc: 0.9396 - val_loss: 0.3112 - val_acc: 0.9257\n",
            "Epoch 87/100\n",
            "60000/60000 [==============================] - 3s 54us/step - loss: 0.2155 - acc: 0.9401 - val_loss: 0.3195 - val_acc: 0.9220\n",
            "Epoch 88/100\n",
            "60000/60000 [==============================] - 3s 55us/step - loss: 0.2154 - acc: 0.9399 - val_loss: 0.3080 - val_acc: 0.9248\n",
            "Epoch 89/100\n",
            "60000/60000 [==============================] - 3s 56us/step - loss: 0.2153 - acc: 0.9395 - val_loss: 0.3093 - val_acc: 0.9253\n",
            "Epoch 90/100\n",
            "60000/60000 [==============================] - 3s 55us/step - loss: 0.2151 - acc: 0.9402 - val_loss: 0.3101 - val_acc: 0.9260\n",
            "Epoch 91/100\n",
            "60000/60000 [==============================] - 3s 55us/step - loss: 0.2152 - acc: 0.9395 - val_loss: 0.3116 - val_acc: 0.9249\n",
            "Epoch 92/100\n",
            "60000/60000 [==============================] - 3s 54us/step - loss: 0.2154 - acc: 0.9397 - val_loss: 0.3131 - val_acc: 0.9238\n",
            "Epoch 93/100\n",
            "60000/60000 [==============================] - 3s 55us/step - loss: 0.2153 - acc: 0.9398 - val_loss: 0.3148 - val_acc: 0.9228\n",
            "Epoch 94/100\n",
            "60000/60000 [==============================] - 3s 55us/step - loss: 0.2150 - acc: 0.9400 - val_loss: 0.3178 - val_acc: 0.9233\n",
            "Epoch 95/100\n",
            "60000/60000 [==============================] - 3s 54us/step - loss: 0.2155 - acc: 0.9394 - val_loss: 0.3124 - val_acc: 0.9236\n",
            "Epoch 96/100\n",
            "60000/60000 [==============================] - 3s 54us/step - loss: 0.2150 - acc: 0.9399 - val_loss: 0.3142 - val_acc: 0.9241\n",
            "Epoch 97/100\n",
            "60000/60000 [==============================] - 3s 54us/step - loss: 0.2156 - acc: 0.9403 - val_loss: 0.3110 - val_acc: 0.9233\n",
            "Epoch 98/100\n",
            "60000/60000 [==============================] - 3s 54us/step - loss: 0.2152 - acc: 0.9402 - val_loss: 0.3170 - val_acc: 0.9219\n",
            "Epoch 99/100\n",
            "60000/60000 [==============================] - 3s 56us/step - loss: 0.2151 - acc: 0.9399 - val_loss: 0.3108 - val_acc: 0.9259\n",
            "Epoch 100/100\n",
            "60000/60000 [==============================] - 3s 54us/step - loss: 0.2152 - acc: 0.9400 - val_loss: 0.3129 - val_acc: 0.9243\n"
          ],
          "name": "stdout"
        },
        {
          "output_type": "execute_result",
          "data": {
            "text/plain": [
              "<keras.callbacks.History at 0x7f91f60677b8>"
            ]
          },
          "metadata": {
            "tags": []
          },
          "execution_count": 57
        }
      ]
    },
    {
      "cell_type": "code",
      "metadata": {
        "id": "W2sxpV3PXDAb",
        "colab_type": "code",
        "colab": {}
      },
      "source": [
        ""
      ],
      "execution_count": 0,
      "outputs": []
    }
  ]
}